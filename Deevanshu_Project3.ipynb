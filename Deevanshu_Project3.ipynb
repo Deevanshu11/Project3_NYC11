{
 "cells": [
  {
   "cell_type": "code",
   "execution_count": 1,
   "id": "4b2594d2-6182-4605-9e79-67c7630a8b1c",
   "metadata": {
    "tags": []
   },
   "outputs": [
    {
     "data": {
      "text/html": [
       "<div>\n",
       "<style scoped>\n",
       "    .dataframe tbody tr th:only-of-type {\n",
       "        vertical-align: middle;\n",
       "    }\n",
       "\n",
       "    .dataframe tbody tr th {\n",
       "        vertical-align: top;\n",
       "    }\n",
       "\n",
       "    .dataframe thead th {\n",
       "        text-align: right;\n",
       "    }\n",
       "</style>\n",
       "<table border=\"1\" class=\"dataframe\">\n",
       "  <thead>\n",
       "    <tr style=\"text-align: right;\">\n",
       "      <th></th>\n",
       "      <th>Unique Key</th>\n",
       "      <th>Created Date</th>\n",
       "      <th>Agency</th>\n",
       "      <th>Agency Name</th>\n",
       "      <th>Complaint Type</th>\n",
       "      <th>Descriptor</th>\n",
       "      <th>Location Type</th>\n",
       "      <th>Incident Zip</th>\n",
       "      <th>City</th>\n",
       "      <th>Resolution Description</th>\n",
       "      <th>Borough</th>\n",
       "      <th>Open Data Channel Type</th>\n",
       "    </tr>\n",
       "  </thead>\n",
       "  <tbody>\n",
       "    <tr>\n",
       "      <th>0</th>\n",
       "      <td>20184537</td>\n",
       "      <td>2011-04-06 00:00:00</td>\n",
       "      <td>HPD</td>\n",
       "      <td>Department of Housing Preservation and Develop...</td>\n",
       "      <td>HEATING</td>\n",
       "      <td>HEAT</td>\n",
       "      <td>RESIDENTIAL BUILDING</td>\n",
       "      <td>10002.0</td>\n",
       "      <td>NEW YORK</td>\n",
       "      <td>More than one complaint was received for this ...</td>\n",
       "      <td>MANHATTAN</td>\n",
       "      <td>UNKNOWN</td>\n",
       "    </tr>\n",
       "    <tr>\n",
       "      <th>1</th>\n",
       "      <td>20184538</td>\n",
       "      <td>2011-04-06 00:00:00</td>\n",
       "      <td>HPD</td>\n",
       "      <td>Department of Housing Preservation and Develop...</td>\n",
       "      <td>GENERAL CONSTRUCTION</td>\n",
       "      <td>WINDOWS</td>\n",
       "      <td>RESIDENTIAL BUILDING</td>\n",
       "      <td>11236.0</td>\n",
       "      <td>BROOKLYN</td>\n",
       "      <td>The Department of Housing Preservation and Dev...</td>\n",
       "      <td>BROOKLYN</td>\n",
       "      <td>UNKNOWN</td>\n",
       "    </tr>\n",
       "    <tr>\n",
       "      <th>2</th>\n",
       "      <td>20184539</td>\n",
       "      <td>2011-04-06 00:00:00</td>\n",
       "      <td>HPD</td>\n",
       "      <td>Department of Housing Preservation and Develop...</td>\n",
       "      <td>PAINT - PLASTER</td>\n",
       "      <td>WALLS</td>\n",
       "      <td>RESIDENTIAL BUILDING</td>\n",
       "      <td>10460.0</td>\n",
       "      <td>BRONX</td>\n",
       "      <td>The Department of Housing Preservation and Dev...</td>\n",
       "      <td>BRONX</td>\n",
       "      <td>UNKNOWN</td>\n",
       "    </tr>\n",
       "    <tr>\n",
       "      <th>3</th>\n",
       "      <td>54732265</td>\n",
       "      <td>2022-07-08 11:14:43</td>\n",
       "      <td>DSNY</td>\n",
       "      <td>Department of Sanitation</td>\n",
       "      <td>Dirty Condition</td>\n",
       "      <td>Trash</td>\n",
       "      <td>Sidewalk</td>\n",
       "      <td>10467.0</td>\n",
       "      <td>BRONX</td>\n",
       "      <td>The Department of Sanitation investigated this...</td>\n",
       "      <td>BRONX</td>\n",
       "      <td>PHONE</td>\n",
       "    </tr>\n",
       "    <tr>\n",
       "      <th>4</th>\n",
       "      <td>20184540</td>\n",
       "      <td>2011-04-06 00:00:00</td>\n",
       "      <td>HPD</td>\n",
       "      <td>Department of Housing Preservation and Develop...</td>\n",
       "      <td>NONCONST</td>\n",
       "      <td>VERMIN</td>\n",
       "      <td>RESIDENTIAL BUILDING</td>\n",
       "      <td>10460.0</td>\n",
       "      <td>BRONX</td>\n",
       "      <td>The Department of Housing Preservation and Dev...</td>\n",
       "      <td>BRONX</td>\n",
       "      <td>UNKNOWN</td>\n",
       "    </tr>\n",
       "    <tr>\n",
       "      <th>...</th>\n",
       "      <td>...</td>\n",
       "      <td>...</td>\n",
       "      <td>...</td>\n",
       "      <td>...</td>\n",
       "      <td>...</td>\n",
       "      <td>...</td>\n",
       "      <td>...</td>\n",
       "      <td>...</td>\n",
       "      <td>...</td>\n",
       "      <td>...</td>\n",
       "      <td>...</td>\n",
       "      <td>...</td>\n",
       "    </tr>\n",
       "    <tr>\n",
       "      <th>33780972</th>\n",
       "      <td>20184532</td>\n",
       "      <td>2011-04-06 00:00:00</td>\n",
       "      <td>HPD</td>\n",
       "      <td>Department of Housing Preservation and Develop...</td>\n",
       "      <td>HEATING</td>\n",
       "      <td>HEAT</td>\n",
       "      <td>RESIDENTIAL BUILDING</td>\n",
       "      <td>10468</td>\n",
       "      <td>BRONX</td>\n",
       "      <td>The Department of Housing Preservation and Dev...</td>\n",
       "      <td>BRONX</td>\n",
       "      <td>UNKNOWN</td>\n",
       "    </tr>\n",
       "    <tr>\n",
       "      <th>33780973</th>\n",
       "      <td>20184533</td>\n",
       "      <td>2011-04-06 00:00:00</td>\n",
       "      <td>HPD</td>\n",
       "      <td>Department of Housing Preservation and Develop...</td>\n",
       "      <td>HEATING</td>\n",
       "      <td>HEAT</td>\n",
       "      <td>RESIDENTIAL BUILDING</td>\n",
       "      <td>10018</td>\n",
       "      <td>NEW YORK</td>\n",
       "      <td>More than one complaint was received for this ...</td>\n",
       "      <td>MANHATTAN</td>\n",
       "      <td>UNKNOWN</td>\n",
       "    </tr>\n",
       "    <tr>\n",
       "      <th>33780974</th>\n",
       "      <td>20184534</td>\n",
       "      <td>2011-04-06 00:00:00</td>\n",
       "      <td>HPD</td>\n",
       "      <td>Department of Housing Preservation and Develop...</td>\n",
       "      <td>GENERAL CONSTRUCTION</td>\n",
       "      <td>STAIRS</td>\n",
       "      <td>RESIDENTIAL BUILDING</td>\n",
       "      <td>10460</td>\n",
       "      <td>BRONX</td>\n",
       "      <td>The Department of Housing Preservation and Dev...</td>\n",
       "      <td>BRONX</td>\n",
       "      <td>UNKNOWN</td>\n",
       "    </tr>\n",
       "    <tr>\n",
       "      <th>33780975</th>\n",
       "      <td>20184535</td>\n",
       "      <td>2011-04-06 00:00:00</td>\n",
       "      <td>HPD</td>\n",
       "      <td>Department of Housing Preservation and Develop...</td>\n",
       "      <td>GENERAL CONSTRUCTION</td>\n",
       "      <td>GAS</td>\n",
       "      <td>RESIDENTIAL BUILDING</td>\n",
       "      <td>11236</td>\n",
       "      <td>BROOKLYN</td>\n",
       "      <td>The Department of Housing Preservation and Dev...</td>\n",
       "      <td>BROOKLYN</td>\n",
       "      <td>UNKNOWN</td>\n",
       "    </tr>\n",
       "    <tr>\n",
       "      <th>33780976</th>\n",
       "      <td>20184536</td>\n",
       "      <td>2011-04-06 00:00:00</td>\n",
       "      <td>HPD</td>\n",
       "      <td>Department of Housing Preservation and Develop...</td>\n",
       "      <td>PLUMBING</td>\n",
       "      <td>WATER-LEAKS</td>\n",
       "      <td>RESIDENTIAL BUILDING</td>\n",
       "      <td>11236</td>\n",
       "      <td>BROOKLYN</td>\n",
       "      <td>The Department of Housing Preservation and Dev...</td>\n",
       "      <td>BROOKLYN</td>\n",
       "      <td>UNKNOWN</td>\n",
       "    </tr>\n",
       "  </tbody>\n",
       "</table>\n",
       "<p>33780977 rows × 12 columns</p>\n",
       "</div>"
      ],
      "text/plain": [
       "          Unique Key        Created Date Agency  \\\n",
       "0           20184537 2011-04-06 00:00:00    HPD   \n",
       "1           20184538 2011-04-06 00:00:00    HPD   \n",
       "2           20184539 2011-04-06 00:00:00    HPD   \n",
       "3           54732265 2022-07-08 11:14:43   DSNY   \n",
       "4           20184540 2011-04-06 00:00:00    HPD   \n",
       "...              ...                 ...    ...   \n",
       "33780972    20184532 2011-04-06 00:00:00    HPD   \n",
       "33780973    20184533 2011-04-06 00:00:00    HPD   \n",
       "33780974    20184534 2011-04-06 00:00:00    HPD   \n",
       "33780975    20184535 2011-04-06 00:00:00    HPD   \n",
       "33780976    20184536 2011-04-06 00:00:00    HPD   \n",
       "\n",
       "                                                Agency Name  \\\n",
       "0         Department of Housing Preservation and Develop...   \n",
       "1         Department of Housing Preservation and Develop...   \n",
       "2         Department of Housing Preservation and Develop...   \n",
       "3                                  Department of Sanitation   \n",
       "4         Department of Housing Preservation and Develop...   \n",
       "...                                                     ...   \n",
       "33780972  Department of Housing Preservation and Develop...   \n",
       "33780973  Department of Housing Preservation and Develop...   \n",
       "33780974  Department of Housing Preservation and Develop...   \n",
       "33780975  Department of Housing Preservation and Develop...   \n",
       "33780976  Department of Housing Preservation and Develop...   \n",
       "\n",
       "                Complaint Type   Descriptor         Location Type  \\\n",
       "0                      HEATING         HEAT  RESIDENTIAL BUILDING   \n",
       "1         GENERAL CONSTRUCTION      WINDOWS  RESIDENTIAL BUILDING   \n",
       "2              PAINT - PLASTER        WALLS  RESIDENTIAL BUILDING   \n",
       "3              Dirty Condition        Trash              Sidewalk   \n",
       "4                     NONCONST       VERMIN  RESIDENTIAL BUILDING   \n",
       "...                        ...          ...                   ...   \n",
       "33780972               HEATING         HEAT  RESIDENTIAL BUILDING   \n",
       "33780973               HEATING         HEAT  RESIDENTIAL BUILDING   \n",
       "33780974  GENERAL CONSTRUCTION       STAIRS  RESIDENTIAL BUILDING   \n",
       "33780975  GENERAL CONSTRUCTION          GAS  RESIDENTIAL BUILDING   \n",
       "33780976              PLUMBING  WATER-LEAKS  RESIDENTIAL BUILDING   \n",
       "\n",
       "         Incident Zip      City  \\\n",
       "0             10002.0  NEW YORK   \n",
       "1             11236.0  BROOKLYN   \n",
       "2             10460.0     BRONX   \n",
       "3             10467.0     BRONX   \n",
       "4             10460.0     BRONX   \n",
       "...               ...       ...   \n",
       "33780972        10468     BRONX   \n",
       "33780973        10018  NEW YORK   \n",
       "33780974        10460     BRONX   \n",
       "33780975        11236  BROOKLYN   \n",
       "33780976        11236  BROOKLYN   \n",
       "\n",
       "                                     Resolution Description    Borough  \\\n",
       "0         More than one complaint was received for this ...  MANHATTAN   \n",
       "1         The Department of Housing Preservation and Dev...   BROOKLYN   \n",
       "2         The Department of Housing Preservation and Dev...      BRONX   \n",
       "3         The Department of Sanitation investigated this...      BRONX   \n",
       "4         The Department of Housing Preservation and Dev...      BRONX   \n",
       "...                                                     ...        ...   \n",
       "33780972  The Department of Housing Preservation and Dev...      BRONX   \n",
       "33780973  More than one complaint was received for this ...  MANHATTAN   \n",
       "33780974  The Department of Housing Preservation and Dev...      BRONX   \n",
       "33780975  The Department of Housing Preservation and Dev...   BROOKLYN   \n",
       "33780976  The Department of Housing Preservation and Dev...   BROOKLYN   \n",
       "\n",
       "         Open Data Channel Type  \n",
       "0                       UNKNOWN  \n",
       "1                       UNKNOWN  \n",
       "2                       UNKNOWN  \n",
       "3                         PHONE  \n",
       "4                       UNKNOWN  \n",
       "...                         ...  \n",
       "33780972                UNKNOWN  \n",
       "33780973                UNKNOWN  \n",
       "33780974                UNKNOWN  \n",
       "33780975                UNKNOWN  \n",
       "33780976                UNKNOWN  \n",
       "\n",
       "[33780977 rows x 12 columns]"
      ]
     },
     "execution_count": 1,
     "metadata": {},
     "output_type": "execute_result"
    }
   ],
   "source": [
    "# Importing the necessary library\n",
    "import pandas as pd\n",
    "\n",
    "# Loading the dataset\n",
    "nyc_311_data = pd.read_pickle('shared/Project-3_NYC_311_Calls.pkl')\n",
    "\n",
    "nyc_311_data"
   ]
  },
  {
   "cell_type": "code",
   "execution_count": 2,
   "id": "fc0bcb69-36d8-4c7f-864a-fbb4aea7f4ba",
   "metadata": {
    "tags": []
   },
   "outputs": [],
   "source": [
    "nyc_311_data.index = pd.DatetimeIndex(nyc_311_data['Created Date'])\n",
    "nyc_311_data.drop(columns=['Created Date'], inplace=True)"
   ]
  },
  {
   "cell_type": "code",
   "execution_count": 3,
   "id": "15c1f0a1-62be-464a-923e-d0b596411b6e",
   "metadata": {
    "tags": []
   },
   "outputs": [
    {
     "name": "stdout",
     "output_type": "stream",
     "text": [
      "<class 'pandas.core.frame.DataFrame'>\n",
      "DatetimeIndex: 33780977 entries, 2011-04-06 00:00:00 to 2011-04-06 00:00:00\n",
      "Data columns (total 11 columns):\n",
      " #   Column                  Dtype \n",
      "---  ------                  ----- \n",
      " 0   Unique Key              int64 \n",
      " 1   Agency                  object\n",
      " 2   Agency Name             object\n",
      " 3   Complaint Type          object\n",
      " 4   Descriptor              object\n",
      " 5   Location Type           object\n",
      " 6   Incident Zip            object\n",
      " 7   City                    object\n",
      " 8   Resolution Description  object\n",
      " 9   Borough                 object\n",
      " 10  Open Data Channel Type  object\n",
      "dtypes: int64(1), object(10)\n",
      "memory usage: 3.0+ GB\n"
     ]
    },
    {
     "data": {
      "text/html": [
       "<div>\n",
       "<style scoped>\n",
       "    .dataframe tbody tr th:only-of-type {\n",
       "        vertical-align: middle;\n",
       "    }\n",
       "\n",
       "    .dataframe tbody tr th {\n",
       "        vertical-align: top;\n",
       "    }\n",
       "\n",
       "    .dataframe thead th {\n",
       "        text-align: right;\n",
       "    }\n",
       "</style>\n",
       "<table border=\"1\" class=\"dataframe\">\n",
       "  <thead>\n",
       "    <tr style=\"text-align: right;\">\n",
       "      <th></th>\n",
       "      <th>Unique Key</th>\n",
       "      <th>Agency</th>\n",
       "      <th>Agency Name</th>\n",
       "      <th>Complaint Type</th>\n",
       "      <th>Descriptor</th>\n",
       "      <th>Location Type</th>\n",
       "      <th>Incident Zip</th>\n",
       "      <th>City</th>\n",
       "      <th>Resolution Description</th>\n",
       "      <th>Borough</th>\n",
       "      <th>Open Data Channel Type</th>\n",
       "    </tr>\n",
       "    <tr>\n",
       "      <th>Created Date</th>\n",
       "      <th></th>\n",
       "      <th></th>\n",
       "      <th></th>\n",
       "      <th></th>\n",
       "      <th></th>\n",
       "      <th></th>\n",
       "      <th></th>\n",
       "      <th></th>\n",
       "      <th></th>\n",
       "      <th></th>\n",
       "      <th></th>\n",
       "    </tr>\n",
       "  </thead>\n",
       "  <tbody>\n",
       "    <tr>\n",
       "      <th>2011-04-06 00:00:00</th>\n",
       "      <td>20184537</td>\n",
       "      <td>HPD</td>\n",
       "      <td>Department of Housing Preservation and Develop...</td>\n",
       "      <td>HEATING</td>\n",
       "      <td>HEAT</td>\n",
       "      <td>RESIDENTIAL BUILDING</td>\n",
       "      <td>10002.0</td>\n",
       "      <td>NEW YORK</td>\n",
       "      <td>More than one complaint was received for this ...</td>\n",
       "      <td>MANHATTAN</td>\n",
       "      <td>UNKNOWN</td>\n",
       "    </tr>\n",
       "    <tr>\n",
       "      <th>2011-04-06 00:00:00</th>\n",
       "      <td>20184538</td>\n",
       "      <td>HPD</td>\n",
       "      <td>Department of Housing Preservation and Develop...</td>\n",
       "      <td>GENERAL CONSTRUCTION</td>\n",
       "      <td>WINDOWS</td>\n",
       "      <td>RESIDENTIAL BUILDING</td>\n",
       "      <td>11236.0</td>\n",
       "      <td>BROOKLYN</td>\n",
       "      <td>The Department of Housing Preservation and Dev...</td>\n",
       "      <td>BROOKLYN</td>\n",
       "      <td>UNKNOWN</td>\n",
       "    </tr>\n",
       "    <tr>\n",
       "      <th>2011-04-06 00:00:00</th>\n",
       "      <td>20184539</td>\n",
       "      <td>HPD</td>\n",
       "      <td>Department of Housing Preservation and Develop...</td>\n",
       "      <td>PAINT - PLASTER</td>\n",
       "      <td>WALLS</td>\n",
       "      <td>RESIDENTIAL BUILDING</td>\n",
       "      <td>10460.0</td>\n",
       "      <td>BRONX</td>\n",
       "      <td>The Department of Housing Preservation and Dev...</td>\n",
       "      <td>BRONX</td>\n",
       "      <td>UNKNOWN</td>\n",
       "    </tr>\n",
       "    <tr>\n",
       "      <th>2022-07-08 11:14:43</th>\n",
       "      <td>54732265</td>\n",
       "      <td>DSNY</td>\n",
       "      <td>Department of Sanitation</td>\n",
       "      <td>Dirty Condition</td>\n",
       "      <td>Trash</td>\n",
       "      <td>Sidewalk</td>\n",
       "      <td>10467.0</td>\n",
       "      <td>BRONX</td>\n",
       "      <td>The Department of Sanitation investigated this...</td>\n",
       "      <td>BRONX</td>\n",
       "      <td>PHONE</td>\n",
       "    </tr>\n",
       "    <tr>\n",
       "      <th>2011-04-06 00:00:00</th>\n",
       "      <td>20184540</td>\n",
       "      <td>HPD</td>\n",
       "      <td>Department of Housing Preservation and Develop...</td>\n",
       "      <td>NONCONST</td>\n",
       "      <td>VERMIN</td>\n",
       "      <td>RESIDENTIAL BUILDING</td>\n",
       "      <td>10460.0</td>\n",
       "      <td>BRONX</td>\n",
       "      <td>The Department of Housing Preservation and Dev...</td>\n",
       "      <td>BRONX</td>\n",
       "      <td>UNKNOWN</td>\n",
       "    </tr>\n",
       "  </tbody>\n",
       "</table>\n",
       "</div>"
      ],
      "text/plain": [
       "                     Unique Key Agency  \\\n",
       "Created Date                             \n",
       "2011-04-06 00:00:00    20184537    HPD   \n",
       "2011-04-06 00:00:00    20184538    HPD   \n",
       "2011-04-06 00:00:00    20184539    HPD   \n",
       "2022-07-08 11:14:43    54732265   DSNY   \n",
       "2011-04-06 00:00:00    20184540    HPD   \n",
       "\n",
       "                                                           Agency Name  \\\n",
       "Created Date                                                             \n",
       "2011-04-06 00:00:00  Department of Housing Preservation and Develop...   \n",
       "2011-04-06 00:00:00  Department of Housing Preservation and Develop...   \n",
       "2011-04-06 00:00:00  Department of Housing Preservation and Develop...   \n",
       "2022-07-08 11:14:43                           Department of Sanitation   \n",
       "2011-04-06 00:00:00  Department of Housing Preservation and Develop...   \n",
       "\n",
       "                           Complaint Type Descriptor         Location Type  \\\n",
       "Created Date                                                                 \n",
       "2011-04-06 00:00:00               HEATING       HEAT  RESIDENTIAL BUILDING   \n",
       "2011-04-06 00:00:00  GENERAL CONSTRUCTION    WINDOWS  RESIDENTIAL BUILDING   \n",
       "2011-04-06 00:00:00       PAINT - PLASTER      WALLS  RESIDENTIAL BUILDING   \n",
       "2022-07-08 11:14:43       Dirty Condition      Trash              Sidewalk   \n",
       "2011-04-06 00:00:00              NONCONST     VERMIN  RESIDENTIAL BUILDING   \n",
       "\n",
       "                    Incident Zip      City  \\\n",
       "Created Date                                 \n",
       "2011-04-06 00:00:00      10002.0  NEW YORK   \n",
       "2011-04-06 00:00:00      11236.0  BROOKLYN   \n",
       "2011-04-06 00:00:00      10460.0     BRONX   \n",
       "2022-07-08 11:14:43      10467.0     BRONX   \n",
       "2011-04-06 00:00:00      10460.0     BRONX   \n",
       "\n",
       "                                                Resolution Description  \\\n",
       "Created Date                                                             \n",
       "2011-04-06 00:00:00  More than one complaint was received for this ...   \n",
       "2011-04-06 00:00:00  The Department of Housing Preservation and Dev...   \n",
       "2011-04-06 00:00:00  The Department of Housing Preservation and Dev...   \n",
       "2022-07-08 11:14:43  The Department of Sanitation investigated this...   \n",
       "2011-04-06 00:00:00  The Department of Housing Preservation and Dev...   \n",
       "\n",
       "                       Borough Open Data Channel Type  \n",
       "Created Date                                           \n",
       "2011-04-06 00:00:00  MANHATTAN                UNKNOWN  \n",
       "2011-04-06 00:00:00   BROOKLYN                UNKNOWN  \n",
       "2011-04-06 00:00:00      BRONX                UNKNOWN  \n",
       "2022-07-08 11:14:43      BRONX                  PHONE  \n",
       "2011-04-06 00:00:00      BRONX                UNKNOWN  "
      ]
     },
     "execution_count": 3,
     "metadata": {},
     "output_type": "execute_result"
    }
   ],
   "source": [
    "nyc_311_data.info()\n",
    "\n",
    "nyc_311_data.head()"
   ]
  },
  {
   "cell_type": "code",
   "execution_count": 6,
   "id": "8241d915-3ec6-42fd-b0a3-1fb1fd218c55",
   "metadata": {
    "tags": []
   },
   "outputs": [
    {
     "data": {
      "text/plain": [
       "Complaint Type\n",
       "Noise - Residential               3131834\n",
       "Illegal Parking                   2110646\n",
       "HEAT/HOT WATER                    1983520\n",
       "Blocked Driveway                  1439795\n",
       "Street Condition                  1212154\n",
       "                                   ...   \n",
       "c:\\windows\\win.ini                      1\n",
       "idexf3mrb7)(!(objectClass=*)            1\n",
       "%E5%98%8A%E5%98%8DX-Injecti...          1\n",
       "() { :;}; /bin/sleep 11                 1\n",
       "Misc. Comments{${sleep(20)}}            1\n",
       "Name: count, Length: 485, dtype: int64"
      ]
     },
     "execution_count": 6,
     "metadata": {},
     "output_type": "execute_result"
    }
   ],
   "source": [
    "complaint_frequency = nyc_311_data['Complaint Type'].value_counts()\n",
    "complaint_frequency"
   ]
  },
  {
   "cell_type": "code",
   "execution_count": 7,
   "id": "947c50ff-08e1-43f1-9db8-a1c64d74ea3d",
   "metadata": {
    "tags": []
   },
   "outputs": [
    {
     "data": {
      "text/plain": [
       "array(['HEAT', 'WINDOWS', 'WALLS', ..., 'Chemical Odor',\n",
       "       'Explosive/Weapons of Mass Destruction',\n",
       "       'Obtaining Health Insurance'], dtype=object)"
      ]
     },
     "execution_count": 7,
     "metadata": {},
     "output_type": "execute_result"
    }
   ],
   "source": [
    "unique_descriptors = nyc_311_data['Descriptor'].unique()\n",
    "unique_descriptors"
   ]
  },
  {
   "cell_type": "code",
   "execution_count": 10,
   "id": "f85647f8-6f88-4bd3-a361-1106de5ce050",
   "metadata": {
    "tags": []
   },
   "outputs": [
    {
     "data": {
      "text/plain": [
       "Timestamp('2010-01-01 00:00:00')"
      ]
     },
     "execution_count": 10,
     "metadata": {},
     "output_type": "execute_result"
    }
   ],
   "source": [
    "start_date = nyc_311_data.index.min()\n",
    "\n",
    "start_date"
   ]
  },
  {
   "cell_type": "code",
   "execution_count": 11,
   "id": "5c384e73-8cb8-4176-b05d-22d16f28251c",
   "metadata": {
    "tags": []
   },
   "outputs": [
    {
     "data": {
      "text/plain": [
       "Timestamp('2023-08-04 12:00:00')"
      ]
     },
     "execution_count": 11,
     "metadata": {},
     "output_type": "execute_result"
    }
   ],
   "source": [
    "end_date = nyc_311_data.index.max()\n",
    "end_date"
   ]
  },
  {
   "cell_type": "code",
   "execution_count": 13,
   "id": "e1542ac8-c869-49d7-9e48-1a31a8e49cc2",
   "metadata": {
    "tags": []
   },
   "outputs": [
    {
     "data": {
      "text/plain": [
       "Unique Key                      0\n",
       "Agency                          0\n",
       "Agency Name                     0\n",
       "Complaint Type                  0\n",
       "Descriptor                 586677\n",
       "Location Type             7140574\n",
       "Incident Zip              1507958\n",
       "City                      1981664\n",
       "Resolution Description    1254890\n",
       "Borough                     47074\n",
       "Open Data Channel Type          0\n",
       "dtype: int64"
      ]
     },
     "execution_count": 13,
     "metadata": {},
     "output_type": "execute_result"
    }
   ],
   "source": [
    "null_values_summary = nyc_311_data.isnull().sum()\n",
    "\n",
    "null_values_summary"
   ]
  },
  {
   "cell_type": "code",
   "execution_count": 15,
   "id": "e0196f59-f890-4e80-b55b-c2b1f01c849e",
   "metadata": {
    "tags": []
   },
   "outputs": [],
   "source": [
    "#Question 1"
   ]
  },
  {
   "cell_type": "code",
   "execution_count": 17,
   "id": "3b987b6c-75d2-44db-93dc-91c45c26e5c2",
   "metadata": {
    "tags": []
   },
   "outputs": [
    {
     "data": {
      "text/plain": [
       "8684.320547945206"
      ]
     },
     "execution_count": 17,
     "metadata": {},
     "output_type": "execute_result"
    }
   ],
   "source": [
    "nyc_311_data.index = pd.to_datetime(nyc_311_data.index)\n",
    "data_2022 = nyc_311_data[nyc_311_data.index.year == 2022]\n",
    "daily_complaints_2022 = data_2022['Unique Key'].resample('D').count()\n",
    "avg_daily_complaints_2022 = daily_complaints_2022.mean()\n",
    "avg_daily_complaints_2022"
   ]
  },
  {
   "cell_type": "code",
   "execution_count": 18,
   "id": "36cde2a2-0347-423b-a928-36a04cc43c77",
   "metadata": {
    "tags": []
   },
   "outputs": [],
   "source": [
    "#Question 2"
   ]
  },
  {
   "cell_type": "code",
   "execution_count": 19,
   "id": "8e6308d9-93de-4697-8931-055362b96b73",
   "metadata": {
    "tags": []
   },
   "outputs": [
    {
     "data": {
      "text/plain": [
       "datetime.date(2020, 8, 4)"
      ]
     },
     "execution_count": 19,
     "metadata": {},
     "output_type": "execute_result"
    }
   ],
   "source": [
    "nyc_311_data.index = pd.to_datetime(nyc_311_data.index)\n",
    "daily_call_summary = nyc_311_data.groupby(nyc_311_data.index.date).size()\n",
    "peak_call_date = daily_call_summary.idxmax()\n",
    "\n",
    "peak_call_date"
   ]
  },
  {
   "cell_type": "code",
   "execution_count": 21,
   "id": "e03ab92a-eba1-4aa2-986e-e54aed5d0f18",
   "metadata": {
    "tags": []
   },
   "outputs": [],
   "source": [
    "#Question 3"
   ]
  },
  {
   "cell_type": "code",
   "execution_count": 20,
   "id": "5fff11cf-ea9d-4937-9a38-4d7900437cad",
   "metadata": {
    "tags": []
   },
   "outputs": [
    {
     "data": {
      "text/plain": [
       "'Damaged Tree'"
      ]
     },
     "execution_count": 20,
     "metadata": {},
     "output_type": "execute_result"
    }
   ],
   "source": [
    "nyc_311_data.index = pd.to_datetime(nyc_311_data.index)\n",
    "daily_call_data = nyc_311_data.groupby(nyc_311_data.index.date).size()\n",
    "peak_calls_day = daily_call_data.idxmax()\n",
    "data_peak_calls = nyc_311_data[nyc_311_data.index.date == peak_calls_day]\n",
    "top_complaint = data_peak_calls['Complaint Type'].mode().values[0]\n",
    "\n",
    "top_complaint"
   ]
  },
  {
   "cell_type": "code",
   "execution_count": 22,
   "id": "a52ee9e1-9dea-40d1-a8ea-82eff901b14a",
   "metadata": {
    "tags": []
   },
   "outputs": [],
   "source": [
    "#Question 4"
   ]
  },
  {
   "cell_type": "code",
   "execution_count": 23,
   "id": "7839c3a5-aca3-4062-8ea4-ee125d0420bc",
   "metadata": {
    "tags": []
   },
   "outputs": [
    {
     "data": {
      "text/plain": [
       "Period('2023-08', 'M')"
      ]
     },
     "execution_count": 23,
     "metadata": {},
     "output_type": "execute_result"
    }
   ],
   "source": [
    "nyc_311_data.index = pd.to_datetime(nyc_311_data.index)\n",
    "nyc_311_data['Month'] = nyc_311_data.index.to_period('M')\n",
    "monthly_call_data = nyc_311_data.groupby('Month').size()\n",
    "least_busy_month = monthly_call_data.idxmin()\n",
    "\n",
    "least_busy_month"
   ]
  },
  {
   "cell_type": "code",
   "execution_count": 24,
   "id": "b3336634-68a5-4b1c-bb9c-4ca5f3f3e2d9",
   "metadata": {
    "tags": []
   },
   "outputs": [],
   "source": [
    "#Question 5"
   ]
  },
  {
   "cell_type": "code",
   "execution_count": 27,
   "id": "b31df341-619d-4fd7-a6a5-d5aa49c68301",
   "metadata": {
    "tags": []
   },
   "outputs": [
    {
     "data": {
      "text/plain": [
       "183"
      ]
     },
     "execution_count": 27,
     "metadata": {},
     "output_type": "execute_result"
    }
   ],
   "source": [
    "import matplotlib.pyplot as plt\n",
    "from statsmodels.tsa.seasonal import seasonal_decompose\n",
    "\n",
    "nyc_311_data.index = pd.to_datetime(nyc_311_data.index)\n",
    "daily_complaint_trend = nyc_311_data['Unique Key'].resample('D').count()\n",
    "seasonal_trend_analysis = seasonal_decompose(daily_complaint_trend, model='additive')\n",
    "analyzed_date = '2020-12-25'\n",
    "seasonal_trend_value = round(seasonal_trend_analysis.seasonal.loc[analyzed_date])\n",
    "\n",
    "seasonal_trend_value"
   ]
  },
  {
   "cell_type": "code",
   "execution_count": 28,
   "id": "91d887f2-d3a0-4c64-be10-873fe65caeb1",
   "metadata": {
    "tags": []
   },
   "outputs": [],
   "source": [
    "#Question 6"
   ]
  },
  {
   "cell_type": "code",
   "execution_count": 29,
   "id": "6b604bf0-6f0c-4584-95ca-78903859756f",
   "metadata": {
    "tags": []
   },
   "outputs": [
    {
     "data": {
      "text/plain": [
       "0.7517059728398577"
      ]
     },
     "execution_count": 29,
     "metadata": {},
     "output_type": "execute_result"
    }
   ],
   "source": [
    "daily_call_autocorrelation = daily_complaint_trend.autocorr(lag=1)\n",
    "\n",
    "daily_call_autocorrelation"
   ]
  },
  {
   "cell_type": "code",
   "execution_count": 30,
   "id": "594a6f13-0a61-4387-b493-14fac9d20dfb",
   "metadata": {
    "tags": []
   },
   "outputs": [],
   "source": [
    "#Question 7"
   ]
  },
  {
   "cell_type": "code",
   "execution_count": 31,
   "id": "b226fe40-3c69-43bc-9177-70837caefb25",
   "metadata": {
    "tags": []
   },
   "outputs": [
    {
     "name": "stdout",
     "output_type": "stream",
     "text": [
      "Defaulting to user installation because normal site-packages is not writeable\n",
      "\u001b[33mWARNING: Ignoring invalid distribution -orch (/opt/conda/envs/mggy8413/lib/python3.10/site-packages)\u001b[0m\u001b[33m\n",
      "\u001b[0mRequirement already satisfied: prophet in /opt/conda/envs/mggy8413/lib/python3.10/site-packages (1.1.4)\n",
      "Requirement already satisfied: cmdstanpy>=1.0.4 in /opt/conda/envs/mggy8413/lib/python3.10/site-packages (from prophet) (1.1.0)\n",
      "Requirement already satisfied: numpy>=1.15.4 in /opt/conda/envs/mggy8413/lib/python3.10/site-packages (from prophet) (1.23.5)\n",
      "Requirement already satisfied: matplotlib>=2.0.0 in /opt/conda/envs/mggy8413/lib/python3.10/site-packages (from prophet) (3.7.2)\n",
      "Requirement already satisfied: pandas>=1.0.4 in /opt/conda/envs/mggy8413/lib/python3.10/site-packages (from prophet) (2.0.3)\n",
      "Requirement already satisfied: LunarCalendar>=0.0.9 in /opt/conda/envs/mggy8413/lib/python3.10/site-packages (from prophet) (0.0.9)\n",
      "Requirement already satisfied: convertdate>=2.1.2 in /opt/conda/envs/mggy8413/lib/python3.10/site-packages (from prophet) (2.4.0)\n",
      "Requirement already satisfied: holidays>=0.25 in /opt/conda/envs/mggy8413/lib/python3.10/site-packages (from prophet) (0.30)\n",
      "Requirement already satisfied: python-dateutil>=2.8.0 in /opt/conda/envs/mggy8413/lib/python3.10/site-packages (from prophet) (2.8.2)\n",
      "Requirement already satisfied: tqdm>=4.36.1 in /opt/conda/envs/mggy8413/lib/python3.10/site-packages (from prophet) (4.66.1)\n",
      "Requirement already satisfied: importlib-resources in /opt/conda/envs/mggy8413/lib/python3.10/site-packages (from prophet) (6.0.1)\n",
      "Requirement already satisfied: pymeeus<=1,>=0.3.13 in /opt/conda/envs/mggy8413/lib/python3.10/site-packages (from convertdate>=2.1.2->prophet) (0.5.12)\n",
      "Requirement already satisfied: ephem>=3.7.5.3 in /opt/conda/envs/mggy8413/lib/python3.10/site-packages (from LunarCalendar>=0.0.9->prophet) (4.1.4)\n",
      "Requirement already satisfied: pytz in /opt/conda/envs/mggy8413/lib/python3.10/site-packages (from LunarCalendar>=0.0.9->prophet) (2023.3)\n",
      "Requirement already satisfied: contourpy>=1.0.1 in /opt/conda/envs/mggy8413/lib/python3.10/site-packages (from matplotlib>=2.0.0->prophet) (1.1.0)\n",
      "Requirement already satisfied: cycler>=0.10 in /opt/conda/envs/mggy8413/lib/python3.10/site-packages (from matplotlib>=2.0.0->prophet) (0.11.0)\n",
      "Requirement already satisfied: fonttools>=4.22.0 in /opt/conda/envs/mggy8413/lib/python3.10/site-packages (from matplotlib>=2.0.0->prophet) (4.42.0)\n",
      "Requirement already satisfied: kiwisolver>=1.0.1 in /opt/conda/envs/mggy8413/lib/python3.10/site-packages (from matplotlib>=2.0.0->prophet) (1.4.4)\n",
      "Requirement already satisfied: packaging>=20.0 in /opt/conda/envs/mggy8413/lib/python3.10/site-packages (from matplotlib>=2.0.0->prophet) (23.1)\n",
      "Requirement already satisfied: pillow>=6.2.0 in /opt/conda/envs/mggy8413/lib/python3.10/site-packages (from matplotlib>=2.0.0->prophet) (10.0.0)\n",
      "Requirement already satisfied: pyparsing<3.1,>=2.3.1 in /opt/conda/envs/mggy8413/lib/python3.10/site-packages (from matplotlib>=2.0.0->prophet) (3.0.9)\n",
      "Requirement already satisfied: tzdata>=2022.1 in /opt/conda/envs/mggy8413/lib/python3.10/site-packages (from pandas>=1.0.4->prophet) (2023.3)\n",
      "Requirement already satisfied: six>=1.5 in /opt/conda/envs/mggy8413/lib/python3.10/site-packages (from python-dateutil>=2.8.0->prophet) (1.16.0)\n",
      "\u001b[33mWARNING: Ignoring invalid distribution -orch (/opt/conda/envs/mggy8413/lib/python3.10/site-packages)\u001b[0m\u001b[33m\n",
      "\u001b[0mNote: you may need to restart the kernel to use updated packages.\n"
     ]
    },
    {
     "name": "stderr",
     "output_type": "stream",
     "text": [
      "21:30:39 - cmdstanpy - INFO - Chain [1] start processing\n",
      "21:30:40 - cmdstanpy - INFO - Chain [1] done processing\n"
     ]
    },
    {
     "data": {
      "text/plain": [
       "1231.513760758433"
      ]
     },
     "execution_count": 31,
     "metadata": {},
     "output_type": "execute_result"
    }
   ],
   "source": [
    "%pip install prophet\n",
    "from prophet import Prophet\n",
    "from sklearn.metrics import mean_squared_error\n",
    "from math import sqrt\n",
    "\n",
    "call_forecast_data = nyc_311_data['Unique Key'].resample('D').count().reset_index()\n",
    "call_forecast_data.columns = ['ds', 'y']\n",
    "call_forecast_data['ds'] = pd.to_datetime(call_forecast_data['ds'])\n",
    "train_data = call_forecast_data.iloc[:-90]\n",
    "test_data = call_forecast_data.iloc[-90:]\n",
    "prophet_model = Prophet()\n",
    "prophet_model.fit(train_data)\n",
    "\n",
    "forecast_future = prophet_model.make_future_dataframe(periods=90)\n",
    "forecast_result = prophet_model.predict(forecast_future)\n",
    "forecast_test_period = forecast_result[-90:]\n",
    "forecast_accuracy = sqrt(mean_squared_error(test_data['y'], forecast_test_period['yhat']))\n",
    "\n",
    "forecast_accuracy"
   ]
  },
  {
   "cell_type": "code",
   "execution_count": null,
   "id": "774bef47-93eb-4b64-954e-9042dea7d10d",
   "metadata": {},
   "outputs": [],
   "source": []
  }
 ],
 "metadata": {
  "kernelspec": {
   "display_name": "Python [conda env:mggy8413]",
   "language": "python",
   "name": "conda-env-mggy8413-py"
  },
  "language_info": {
   "codemirror_mode": {
    "name": "ipython",
    "version": 3
   },
   "file_extension": ".py",
   "mimetype": "text/x-python",
   "name": "python",
   "nbconvert_exporter": "python",
   "pygments_lexer": "ipython3",
   "version": "3.10.12"
  }
 },
 "nbformat": 4,
 "nbformat_minor": 5
}
